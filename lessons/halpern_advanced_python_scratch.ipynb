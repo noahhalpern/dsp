{
 "cells": [
  {
   "cell_type": "markdown",
   "metadata": {},
   "source": [
    "# Q1"
   ]
  },
  {
   "cell_type": "code",
   "execution_count": 1,
   "metadata": {},
   "outputs": [],
   "source": [
    "import re\n",
    "from collections import defaultdict"
   ]
  },
  {
   "cell_type": "code",
   "execution_count": 5,
   "metadata": {},
   "outputs": [
    {
     "name": "stdout",
     "output_type": "stream",
     "text": [
      "defaultdict(<class 'int'>, {'ScD': 6, 'PhD': 31, 'MD': 1, 'MPH': 2, 'BSEd': 1, 'MS': 2, 'JD': 1, 'MA': 1, '0': 1})\n"
     ]
    }
   ],
   "source": [
    "freq = defaultdict(int)\n",
    "with open('./data/faculty.csv', 'r') as data:\n",
    "    next(data)\n",
    "    for line in data:\n",
    "        degrees = line.split(',')[1].split()\n",
    "        degrees_std = [''.join(re.findall('[a-zA-Z0-9]',deg)) for deg in degrees]\n",
    "        for deg in degrees_std:\n",
    "            freq[deg] += 1\n",
    "            \n",
    "    print(freq)"
   ]
  },
  {
   "cell_type": "code",
   "execution_count": 3,
   "metadata": {},
   "outputs": [],
   "source": [
    "import pandas as pd"
   ]
  },
  {
   "cell_type": "code",
   "execution_count": 8,
   "metadata": {
    "scrolled": false
   },
   "outputs": [
    {
     "data": {
      "text/html": [
       "<div>\n",
       "<style scoped>\n",
       "    .dataframe tbody tr th:only-of-type {\n",
       "        vertical-align: middle;\n",
       "    }\n",
       "\n",
       "    .dataframe tbody tr th {\n",
       "        vertical-align: top;\n",
       "    }\n",
       "\n",
       "    .dataframe thead th {\n",
       "        text-align: right;\n",
       "    }\n",
       "</style>\n",
       "<table border=\"1\" class=\"dataframe\">\n",
       "  <thead>\n",
       "    <tr style=\"text-align: right;\">\n",
       "      <th></th>\n",
       "      <th>name</th>\n",
       "      <th>degree</th>\n",
       "      <th>title</th>\n",
       "      <th>email</th>\n",
       "    </tr>\n",
       "  </thead>\n",
       "  <tbody>\n",
       "    <tr>\n",
       "      <th>0</th>\n",
       "      <td>Scarlett L. Bellamy</td>\n",
       "      <td>Sc.D.</td>\n",
       "      <td>Associate Professor of Biostatistics</td>\n",
       "      <td>bellamys@mail.med.upenn.edu</td>\n",
       "    </tr>\n",
       "    <tr>\n",
       "      <th>1</th>\n",
       "      <td>Warren B. Bilker</td>\n",
       "      <td>Ph.D.</td>\n",
       "      <td>Professor of Biostatistics</td>\n",
       "      <td>warren@upenn.edu</td>\n",
       "    </tr>\n",
       "    <tr>\n",
       "      <th>2</th>\n",
       "      <td>Matthew W Bryan</td>\n",
       "      <td>PhD</td>\n",
       "      <td>Assistant Professor of Biostatistics</td>\n",
       "      <td>bryanma@upenn.edu</td>\n",
       "    </tr>\n",
       "    <tr>\n",
       "      <th>3</th>\n",
       "      <td>Jinbo Chen</td>\n",
       "      <td>Ph.D.</td>\n",
       "      <td>Associate Professor of Biostatistics</td>\n",
       "      <td>jinboche@upenn.edu</td>\n",
       "    </tr>\n",
       "    <tr>\n",
       "      <th>4</th>\n",
       "      <td>Susan S Ellenberg</td>\n",
       "      <td>Ph.D.</td>\n",
       "      <td>Professor of Biostatistics</td>\n",
       "      <td>sellenbe@upenn.edu</td>\n",
       "    </tr>\n",
       "  </tbody>\n",
       "</table>\n",
       "</div>"
      ],
      "text/plain": [
       "                  name  degree                                 title  \\\n",
       "0  Scarlett L. Bellamy   Sc.D.  Associate Professor of Biostatistics   \n",
       "1     Warren B. Bilker   Ph.D.            Professor of Biostatistics   \n",
       "2      Matthew W Bryan     PhD  Assistant Professor of Biostatistics   \n",
       "3           Jinbo Chen   Ph.D.  Associate Professor of Biostatistics   \n",
       "4    Susan S Ellenberg   Ph.D.            Professor of Biostatistics   \n",
       "\n",
       "                         email  \n",
       "0  bellamys@mail.med.upenn.edu  \n",
       "1             warren@upenn.edu  \n",
       "2            bryanma@upenn.edu  \n",
       "3           jinboche@upenn.edu  \n",
       "4           sellenbe@upenn.edu  "
      ]
     },
     "execution_count": 8,
     "metadata": {},
     "output_type": "execute_result"
    }
   ],
   "source": [
    "fac = pd.read_csv('./data/faculty.csv', header=0)\n",
    "fac.head()"
   ]
  },
  {
   "cell_type": "markdown",
   "metadata": {},
   "source": [
    "# Q2"
   ]
  },
  {
   "cell_type": "code",
   "execution_count": 12,
   "metadata": {},
   "outputs": [],
   "source": [
    "fac.columns = [c.strip() for c in fac.columns]"
   ]
  },
  {
   "cell_type": "code",
   "execution_count": 15,
   "metadata": {},
   "outputs": [
    {
     "name": "stdout",
     "output_type": "stream",
     "text": [
      "defaultdict(<class 'int'>, {'Associate Professor of Biostatistics': 12, 'Professor of Biostatistics': 13, 'Assistant Professor of Biostatistics': 12})\n"
     ]
    }
   ],
   "source": [
    "freq = defaultdict(int)\n",
    "tail = 'Professor of Biostatistics'\n",
    "with open('./data/faculty.csv', 'r') as data:\n",
    "    next(data)\n",
    "    for line in data:\n",
    "        title = line.split(',')[2].strip()\n",
    "        if 'Associate' in title:\n",
    "            title = 'Associate ' + tail\n",
    "        elif 'Assistant' in title:\n",
    "            title = 'Assistant ' + tail\n",
    "        else:\n",
    "            title = tail\n",
    "        freq[title] += 1\n",
    "\n",
    "print(freq)"
   ]
  },
  {
   "cell_type": "markdown",
   "metadata": {},
   "source": [
    "# Q4"
   ]
  },
  {
   "cell_type": "code",
   "execution_count": 45,
   "metadata": {},
   "outputs": [
    {
     "name": "stdout",
     "output_type": "stream",
     "text": [
      "@mail.med.upenn.edu\n",
      "@upenn.edu\n",
      "@upenn.edu\n",
      "@upenn.edu\n",
      "@upenn.edu\n",
      "@mail.med.upenn.edu\n",
      "@upenn.edu\n",
      "@mail.med.upenn.edu\n",
      "@upenn.edu\n",
      "@mail.med.upenn.edu\n",
      "@mail.med.upenn.edu\n",
      "@mail.med.upenn.edu\n",
      "@mail.med.upenn.edu\n",
      "@mail.med.upenn.edu\n",
      "@mail.med.upenn.edu\n",
      "@email.chop.edu\n",
      "@mail.med.upenn.edu\n",
      "@upenn.edu\n",
      "@upenn.edu\n",
      "@mail.med.upenn.edu\n",
      "@mail.med.upenn.edu\n",
      "@mail.med.upenn.edu\n",
      "@mail.med.upenn.edu\n",
      "@upenn.edu\n",
      "@upenn.edu\n",
      "@mail.med.upenn.edu\n",
      "@cceb.med.upenn.edu\n",
      "@upenn.edu\n",
      "@mail.med.upenn.edu\n",
      "@mail.med.upenn.edu\n",
      "@mail.med.upenn.edu\n",
      "@mail.med.upenn.edu\n",
      "@mail.med.upenn.edu\n",
      "@mail.med.upenn.edu\n",
      "@mail.med.upenn.edu\n",
      "@upenn.edu\n",
      "@mail.med.upenn.edu\n"
     ]
    }
   ],
   "source": [
    "emails = fac.email\n",
    "domains = []\n",
    "for email in emails:\n",
    "    domain = re.findall('@.+', email)[0]\n",
    "    print(domain)"
   ]
  },
  {
   "cell_type": "code",
   "execution_count": 49,
   "metadata": {},
   "outputs": [
    {
     "data": {
      "text/plain": [
       "<generator object <genexpr> at 0x1177db2d0>"
      ]
     },
     "execution_count": 49,
     "metadata": {},
     "output_type": "execute_result"
    }
   ],
   "source": [
    "(e for e in emails)"
   ]
  },
  {
   "cell_type": "code",
   "execution_count": 60,
   "metadata": {},
   "outputs": [
    {
     "name": "stdout",
     "output_type": "stream",
     "text": [
      "defaultdict(<class 'list'>, {'Bellamy': [[' Sc.D.', 'Associate Professor of Biostatistics', 'bellamys@mail.med.upenn.edu\\n']], 'Bilker': [['Ph.D.', 'Professor of Biostatistics', 'warren@upenn.edu\\n']], 'Bryan': [[' PhD', 'Assistant Professor of Biostatistics', 'bryanma@upenn.edu\\n']], 'Chen': [[' Ph.D.', 'Associate Professor of Biostatistics', 'jinboche@upenn.edu\\n']], 'Ellenberg': [[' Ph.D.', 'Professor of Biostatistics', 'sellenbe@upenn.edu\\n'], [' Ph.D.', 'Professor of Biostatistics', 'jellenbe@mail.med.upenn.edu\\n']], 'Feng': [[' Ph.D', 'Assistant Professor of Biostatistics', 'ruifeng@upenn.edu\\n']], 'French': [[' PhD', 'Associate Professor of Biostatistics', 'bcfrench@mail.med.upenn.edu\\n']], 'Gimotty': [[' Ph.D', 'Professor of Biostatistics', 'pgimotty@upenn.edu\\n']], 'Guo': [[' Ph.D', 'Professor of Biostatistics', 'wguo@mail.med.upenn.edu\\n']], 'Hsu': [[' Ph.D.', 'Assistant Professor of Biostatistics', 'hsu9@mail.med.upenn.edu\\n']], 'Hubbard': [[' PhD', 'Associate Professor of Biostatistics', 'rhubb@mail.med.upenn.edu\\n']], 'Hwang': [[' Ph.D.', 'Associate Professor of Biostatistics', 'whwang@mail.med.upenn.edu\\n']], 'Joffe': [[' MD MPH Ph.D', 'Professor of Biostatistics', 'mjoffe@mail.med.upenn.edu\\n']], 'Landis': [[' B.S.Ed. M.S. Ph.D.', 'Professor of Biostatistics', 'jrlandis@mail.med.upenn.edu\\n']], 'Li': [[' Ph.D.', 'Assistant Professor of Biostatistics', 'liy3@email.chop.edu\\n'], [' Ph.D.', 'Associate Professor of Biostatistics', 'mingyao@mail.med.upenn.edu\\n'], [' Ph.D', 'Professor of Biostatistics', 'hongzhe@upenn.edu\\n']], 'Localio': [[' JD MA MPH MS PhD', 'Associate Professor of Biostatistics', 'rlocalio@upenn.edu\\n']], 'Mitra': [[' Ph.D.', 'Associate Professor of Biostatistics', 'nanditam@mail.med.upenn.edu\\n']], 'Morales': [[' Sc.D.', 'Associate Professor of Biostatistics', 'knashawn@mail.med.upenn.edu\\n']], 'Propert': [[' Sc.D.', 'Professor of Biostatistics', 'propert@mail.med.upenn.edu\\n']], 'Putt': [[' PhD ScD', 'Professor of Biostatistics', 'mputt@mail.med.upenn.edu\\n']], 'Ratcliffe': [[' Ph.D.', 'Associate Professor of Biostatistics', 'sratclif@upenn.edu\\n']], 'Ross': [[' PhD', 'Assistant Professor is Biostatistics', 'michross@upenn.edu\\n']], 'Roy': [[' Ph.D.', 'Associate Professor of Biostatistics', 'jaroy@mail.med.upenn.edu\\n']], 'Sammel': [[' Sc.D.', 'Professor of Biostatistics', 'msammel@cceb.med.upenn.edu\\n']], 'Shaw': [[' PhD', 'Assistant Professor of Biostatistics', 'shawp@upenn.edu\\n']], 'Shinohara': [['0', 'Assistant Professor of Biostatistics', 'rshi@mail.med.upenn.edu\\n']], 'Shou': [[' Ph.D.', 'Assistant Professor of Biostatistics', 'hshou@mail.med.upenn.edu\\n']], 'Shults': [[' Ph.D.', 'Professor of Biostatistics', 'jshults@mail.med.upenn.edu\\n']], 'Stephens': [[' Ph.D.', 'Assistant Professor of Biostatistics', 'alisaste@mail.med.upenn.edu\\n']], 'Troxel': [[' ScD', 'Professor of Biostatistics', 'atroxel@mail.med.upenn.edu\\n']], 'Xiao': [[' PhD', 'Assistant Professor of Biostatistics', 'rxiao@mail.med.upenn.edu\\n']], 'Xie': [[' Ph.D.', 'Associate Professor of Biostatistics', 'sxie@mail.med.upenn.edu\\n'], [' PhD', 'Assistant Professor of Biostatistics', 'dxie@upenn.edu\\n']], 'Yang': [[' Ph.D.', 'Assistant Professor of Biostatistics', 'weiyang@mail.med.upenn.edu']]})\n"
     ]
    }
   ],
   "source": [
    "d = defaultdict(list)\n",
    "with open('./data/faculty.csv', 'r') as data:\n",
    "    next(data)\n",
    "    for line in data:\n",
    "        line_split = line.split(',')\n",
    "        lastname = line_split[0].split()[-1]\n",
    "        rest_of_line = line_split[1:]\n",
    "        d[lastname].append(rest_of_line)\n",
    "print(d)"
   ]
  },
  {
   "cell_type": "code",
   "execution_count": null,
   "metadata": {},
   "outputs": [],
   "source": []
  }
 ],
 "metadata": {
  "kernelspec": {
   "display_name": "Python 3",
   "language": "python",
   "name": "python3"
  },
  "language_info": {
   "codemirror_mode": {
    "name": "ipython",
    "version": 3
   },
   "file_extension": ".py",
   "mimetype": "text/x-python",
   "name": "python",
   "nbconvert_exporter": "python",
   "pygments_lexer": "ipython3",
   "version": "3.7.5"
  }
 },
 "nbformat": 4,
 "nbformat_minor": 2
}
